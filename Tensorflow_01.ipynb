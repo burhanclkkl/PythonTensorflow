{
 "cells": [
  {
   "cell_type": "code",
   "execution_count": 1,
   "id": "8237dcae",
   "metadata": {},
   "outputs": [
    {
     "name": "stdout",
     "output_type": "stream",
     "text": [
      "Tensorflow Version:  2.12.0 \n",
      "\n"
     ]
    }
   ],
   "source": [
    "import tensorflow as tf \n",
    "print(\"Tensorflow Version: \", tf.__version__, \"\\n\") #tensorflow version"
   ]
  },
  {
   "cell_type": "code",
   "execution_count": 2,
   "id": "0ca73552",
   "metadata": {},
   "outputs": [
    {
     "name": "stdout",
     "output_type": "stream",
     "text": [
      "tf.Tensor([[4.]], shape=(1, 1), dtype=float32) \n",
      "\n"
     ]
    }
   ],
   "source": [
    "matrix = tf.constant(4, shape=(1,1), dtype=tf.float32) #tensor created\n",
    "print(matrix, \"\\n\")"
   ]
  },
  {
   "cell_type": "code",
   "execution_count": 4,
   "id": "81f280ec",
   "metadata": {},
   "outputs": [
    {
     "name": "stdout",
     "output_type": "stream",
     "text": [
      "tf.Tensor(\n",
      "[[1. 0. 0. 0.]\n",
      " [0. 1. 0. 0.]\n",
      " [0. 0. 1. 0.]\n",
      " [0. 0. 0. 1.]], shape=(4, 4), dtype=float32)\n"
     ]
    }
   ],
   "source": [
    "matrix = tf.eye(4)\n",
    "print(matrix)"
   ]
  },
  {
   "cell_type": "code",
   "execution_count": 5,
   "id": "17e6d503",
   "metadata": {},
   "outputs": [
    {
     "name": "stdout",
     "output_type": "stream",
     "text": [
      "tf.Tensor(\n",
      "[[1. 1. 1. 1. 1. 1. 1. 1. 1.]\n",
      " [1. 1. 1. 1. 1. 1. 1. 1. 1.]\n",
      " [1. 1. 1. 1. 1. 1. 1. 1. 1.]\n",
      " [1. 1. 1. 1. 1. 1. 1. 1. 1.]\n",
      " [1. 1. 1. 1. 1. 1. 1. 1. 1.]], shape=(5, 9), dtype=float32)\n"
     ]
    }
   ],
   "source": [
    "matrix = tf.ones((5,9)) #5 rows and 9 columns\n",
    "print(matrix)"
   ]
  },
  {
   "cell_type": "code",
   "execution_count": 10,
   "id": "c15c0e35",
   "metadata": {},
   "outputs": [
    {
     "name": "stdout",
     "output_type": "stream",
     "text": [
      "tf.Tensor(\n",
      "[[0. 0.]\n",
      " [0. 0.]\n",
      " [0. 0.]], shape=(3, 2), dtype=float32)\n"
     ]
    }
   ],
   "source": [
    "matrix = tf.zeros((3,2)) #3 rows and 2 columns\n",
    "print(matrix)"
   ]
  },
  {
   "cell_type": "code",
   "execution_count": 11,
   "id": "24f1211e",
   "metadata": {},
   "outputs": [
    {
     "name": "stdout",
     "output_type": "stream",
     "text": [
      "tf.Tensor(\n",
      "[[0.14311838 1.9101949  2.915337   1.3083186  2.971901  ]\n",
      " [0.00608861 1.8075185  2.6327026  2.405031   1.5042661 ]], shape=(2, 5), dtype=float32)\n"
     ]
    }
   ],
   "source": [
    "matrix = tf.random.uniform((2,5), minval=0, maxval=3) #2 rows and 5 columns\n",
    "print(matrix)"
   ]
  },
  {
   "cell_type": "code",
   "execution_count": 12,
   "id": "9e80168e",
   "metadata": {},
   "outputs": [
    {
     "name": "stdout",
     "output_type": "stream",
     "text": [
      "tf.Tensor(\n",
      "[[2.89592886 0.21908259 2.69566536 2.70894074 0.29416609]\n",
      " [5.13021755 1.13485706 2.03527665 1.79345894 2.85054088]], shape=(2, 5), dtype=float64)\n"
     ]
    }
   ],
   "source": [
    "matrix = tf.random.normal((2,5), mean=2, stddev=3)\n",
    "print(tf.cast(matrix, dtype= tf.float64))"
   ]
  },
  {
   "cell_type": "code",
   "execution_count": 13,
   "id": "b52cafa0",
   "metadata": {},
   "outputs": [
    {
     "name": "stdout",
     "output_type": "stream",
     "text": [
      "tf.Tensor([ 0  3  6  9 12 15 18 21 24], shape=(9,), dtype=int32)\n"
     ]
    }
   ],
   "source": [
    "matrix = tf.range(start=0, limit=25, delta=3)\n",
    "print(matrix)"
   ]
  },
  {
   "cell_type": "code",
   "execution_count": 14,
   "id": "a89d1ef4",
   "metadata": {},
   "outputs": [
    {
     "name": "stdout",
     "output_type": "stream",
     "text": [
      "tf.Tensor([ 2  7 21], shape=(3,), dtype=int32)\n",
      "tf.Tensor([ 2  7 21], shape=(3,), dtype=int32)\n"
     ]
    }
   ],
   "source": [
    "#Math Operations \n",
    "#Add\n",
    "matrix_1 = tf.constant([1,5,9])\n",
    "matrix_2 = tf.constant([1,2,12])\n",
    "matrix_3 = tf.add(matrix_1, matrix_2)\n",
    "print(matrix_3)\n",
    "matrix_3 = matrix_1 + matrix_2\n",
    "print(matrix_3)"
   ]
  },
  {
   "cell_type": "code",
   "execution_count": 15,
   "id": "90aa07e7",
   "metadata": {},
   "outputs": [
    {
     "name": "stdout",
     "output_type": "stream",
     "text": [
      "tf.Tensor([ 5  3 -3], shape=(3,), dtype=int32)\n",
      "tf.Tensor([ 5  3 -3], shape=(3,), dtype=int32)\n"
     ]
    }
   ],
   "source": [
    "#Subtract\n",
    "matrix_1 = tf.constant([6,5,9])\n",
    "matrix_2 = tf.constant([1,2,12])\n",
    "matrix_3 = tf.subtract(matrix_1, matrix_2)\n",
    "print(matrix_3)\n",
    "matrix_3 = matrix_1 - matrix_2\n",
    "print(matrix_3)"
   ]
  },
  {
   "cell_type": "code",
   "execution_count": 16,
   "id": "fc9b2d2f",
   "metadata": {},
   "outputs": [
    {
     "name": "stdout",
     "output_type": "stream",
     "text": [
      "tf.Tensor([6.   2.5  0.75], shape=(3,), dtype=float64)\n",
      "tf.Tensor([6.   2.5  0.75], shape=(3,), dtype=float64)\n"
     ]
    }
   ],
   "source": [
    "#Divide\n",
    "matrix_1 = tf.constant([6,5,9])\n",
    "matrix_2 = tf.constant([1,2,12])\n",
    "matrix_3 = tf.divide(matrix_1, matrix_2)\n",
    "print(matrix_3)\n",
    "matrix_3 = matrix_1 / matrix_2\n",
    "print(matrix_3)"
   ]
  },
  {
   "cell_type": "code",
   "execution_count": 17,
   "id": "6b08cab7",
   "metadata": {},
   "outputs": [
    {
     "name": "stdout",
     "output_type": "stream",
     "text": [
      "tf.Tensor([  6  10 108], shape=(3,), dtype=int32)\n",
      "tf.Tensor([  6  10 108], shape=(3,), dtype=int32)\n"
     ]
    }
   ],
   "source": [
    "#Multiply\n",
    "matrix_1 = tf.constant([6,5,9])\n",
    "matrix_2 = tf.constant([1,2,12])\n",
    "matrix_3 = tf.multiply(matrix_1, matrix_2)\n",
    "print(matrix_3)\n",
    "matrix_3 = matrix_1 * matrix_2\n",
    "print(matrix_3)"
   ]
  }
 ],
 "metadata": {
  "kernelspec": {
   "display_name": "Python 3 (ipykernel)",
   "language": "python",
   "name": "python3"
  },
  "language_info": {
   "codemirror_mode": {
    "name": "ipython",
    "version": 3
   },
   "file_extension": ".py",
   "mimetype": "text/x-python",
   "name": "python",
   "nbconvert_exporter": "python",
   "pygments_lexer": "ipython3",
   "version": "3.8.16"
  }
 },
 "nbformat": 4,
 "nbformat_minor": 5
}
